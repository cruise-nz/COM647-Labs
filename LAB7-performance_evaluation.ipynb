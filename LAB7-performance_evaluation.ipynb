{
 "cells": [
  {
   "cell_type": "markdown",
   "id": "6a5d5597",
   "metadata": {},
   "source": [
    "### Performance Evaluation Techniques\n",
    "- Performance Evaluation Matrice\n",
    "    - Mean Absolute Error (MAE)\n",
    "    - Mean Squared Error (MSE)\n",
    "    - Root Mean Squared Error (RMSE)\n",
    "    - R-squared (R²)\n",
    "    - Accuracy\n",
    "    - Precision\n",
    "    - Recall\n",
    "    - F1 Score\n",
    "    - Confusion Matrix\n",
    "- Model Overfitting and Underfitting"
   ]
  },
  {
   "cell_type": "code",
   "execution_count": null,
   "id": "29d81772",
   "metadata": {},
   "outputs": [],
   "source": []
  }
 ],
 "metadata": {
  "kernelspec": {
   "display_name": "comp647_env",
   "language": "python",
   "name": "python3"
  },
  "language_info": {
   "name": "python",
   "version": "3.12.11"
  }
 },
 "nbformat": 4,
 "nbformat_minor": 5
}
